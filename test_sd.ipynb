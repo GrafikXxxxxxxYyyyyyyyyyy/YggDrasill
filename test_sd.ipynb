{
 "cells": [
  {
   "cell_type": "code",
   "execution_count": 1,
   "metadata": {},
   "outputs": [
    {
     "ename": "ImportError",
     "evalue": "cannot import name 'StableDiffusionModelKey' from partially initialized module 'YggDrasill.stable_diffusion_model' (most likely due to a circular import) (/root/dev/YggDrasill/stable_diffusion_model.py)",
     "output_type": "error",
     "traceback": [
      "\u001b[0;31m---------------------------------------------------------------------------\u001b[0m",
      "\u001b[0;31mImportError\u001b[0m                               Traceback (most recent call last)",
      "Cell \u001b[0;32mIn[1], line 1\u001b[0m\n\u001b[0;32m----> 1\u001b[0m \u001b[38;5;28;01mfrom\u001b[39;00m \u001b[38;5;21;01mYggDrasill\u001b[39;00m\u001b[38;5;21;01m.\u001b[39;00m\u001b[38;5;21;01mstable_diffusion_pipeline\u001b[39;00m \u001b[38;5;28;01mimport\u001b[39;00m StableDiffusionPipeline\n\u001b[1;32m      2\u001b[0m \u001b[38;5;28;01mfrom\u001b[39;00m \u001b[38;5;21;01mYggDrasill\u001b[39;00m\u001b[38;5;21;01m.\u001b[39;00m\u001b[38;5;21;01mstable_diffusion_model\u001b[39;00m \u001b[38;5;28;01mimport\u001b[39;00m StableDiffusionModel, StableDiffusionModelKey\n\u001b[1;32m      4\u001b[0m KEY \u001b[38;5;241m=\u001b[39m StableDiffusionModelKey()\n",
      "File \u001b[0;32m~/dev/YggDrasill/stable_diffusion_pipeline.py:7\u001b[0m\n\u001b[1;32m      4\u001b[0m \u001b[38;5;28;01mfrom\u001b[39;00m \u001b[38;5;21;01mdataclasses\u001b[39;00m \u001b[38;5;28;01mimport\u001b[39;00m dataclass\n\u001b[1;32m      5\u001b[0m \u001b[38;5;28;01mfrom\u001b[39;00m \u001b[38;5;21;01mdiffusers\u001b[39;00m\u001b[38;5;21;01m.\u001b[39;00m\u001b[38;5;21;01mutils\u001b[39;00m \u001b[38;5;28;01mimport\u001b[39;00m BaseOutput\n\u001b[0;32m----> 7\u001b[0m \u001b[38;5;28;01mfrom\u001b[39;00m \u001b[38;5;21;01m.\u001b[39;00m\u001b[38;5;21;01mstable_diffusion_model\u001b[39;00m \u001b[38;5;28;01mimport\u001b[39;00m (\n\u001b[1;32m      8\u001b[0m     Conditions, \n\u001b[1;32m      9\u001b[0m     StableDiffusionModel, \n\u001b[1;32m     10\u001b[0m     StableDiffusionModelKey,\n\u001b[1;32m     11\u001b[0m )\n\u001b[1;32m     12\u001b[0m \u001b[38;5;28;01mfrom\u001b[39;00m \u001b[38;5;21;01m.\u001b[39;00m\u001b[38;5;21;01mcore\u001b[39;00m\u001b[38;5;21;01m.\u001b[39;00m\u001b[38;5;21;01mdiffusion_pipeline\u001b[39;00m \u001b[38;5;28;01mimport\u001b[39;00m (\n\u001b[1;32m     13\u001b[0m     DiffusionPipeline, \n\u001b[1;32m     14\u001b[0m     DiffusionPipelineInput,\n\u001b[1;32m     15\u001b[0m     DiffusionPipelineOutput,\n\u001b[1;32m     16\u001b[0m )\n\u001b[1;32m     17\u001b[0m \u001b[38;5;28;01mfrom\u001b[39;00m \u001b[38;5;21;01m.\u001b[39;00m\u001b[38;5;21;01mpipelines\u001b[39;00m\u001b[38;5;21;01m.\u001b[39;00m\u001b[38;5;21;01mtext_encoder_pipeline\u001b[39;00m \u001b[38;5;28;01mimport\u001b[39;00m (\n\u001b[1;32m     18\u001b[0m     TextEncoderPipeline,\n\u001b[1;32m     19\u001b[0m     TextEncoderPipelineInput,\n\u001b[1;32m     20\u001b[0m     TextEncoderPipelineOutput,\n\u001b[1;32m     21\u001b[0m )\n",
      "File \u001b[0;32m~/dev/YggDrasill/stable_diffusion_model.py:16\u001b[0m\n\u001b[1;32m      7\u001b[0m \u001b[38;5;28;01mfrom\u001b[39;00m \u001b[38;5;21;01m.\u001b[39;00m\u001b[38;5;21;01mcore\u001b[39;00m\u001b[38;5;21;01m.\u001b[39;00m\u001b[38;5;21;01mdiffusion_model\u001b[39;00m \u001b[38;5;28;01mimport\u001b[39;00m (\n\u001b[1;32m      8\u001b[0m     Conditions, \n\u001b[1;32m      9\u001b[0m     DiffusionModel, \n\u001b[1;32m     10\u001b[0m     DiffusionModelKey\n\u001b[1;32m     11\u001b[0m )\n\u001b[1;32m     12\u001b[0m \u001b[38;5;28;01mfrom\u001b[39;00m \u001b[38;5;21;01m.\u001b[39;00m\u001b[38;5;21;01mmodels\u001b[39;00m\u001b[38;5;21;01m.\u001b[39;00m\u001b[38;5;21;01mtext_encoder_model\u001b[39;00m \u001b[38;5;28;01mimport\u001b[39;00m (\n\u001b[1;32m     13\u001b[0m     TextEncoderModel,\n\u001b[1;32m     14\u001b[0m     CLIPTextEncoderModel,\n\u001b[1;32m     15\u001b[0m )\n\u001b[0;32m---> 16\u001b[0m \u001b[38;5;28;01mfrom\u001b[39;00m \u001b[38;5;21;01m.\u001b[39;00m\u001b[38;5;21;01mpipelines\u001b[39;00m\u001b[38;5;21;01m.\u001b[39;00m\u001b[38;5;21;01mtext_encoder_pipeline\u001b[39;00m \u001b[38;5;28;01mimport\u001b[39;00m TextEncoderPipelineOutput\n\u001b[1;32m     19\u001b[0m \u001b[38;5;129m@dataclass\u001b[39m\n\u001b[1;32m     20\u001b[0m \u001b[38;5;28;01mclass\u001b[39;00m \u001b[38;5;21;01mStableDiffusionModelKey\u001b[39;00m(DiffusionModelKey):\n\u001b[1;32m     21\u001b[0m     \u001b[38;5;28;01mpass\u001b[39;00m\n",
      "File \u001b[0;32m~/dev/YggDrasill/pipelines/text_encoder_pipeline.py:7\u001b[0m\n\u001b[1;32m      4\u001b[0m \u001b[38;5;28;01mfrom\u001b[39;00m \u001b[38;5;21;01mdiffusers\u001b[39;00m\u001b[38;5;21;01m.\u001b[39;00m\u001b[38;5;21;01mutils\u001b[39;00m \u001b[38;5;28;01mimport\u001b[39;00m BaseOutput\n\u001b[1;32m      5\u001b[0m \u001b[38;5;28;01mfrom\u001b[39;00m \u001b[38;5;21;01mtyping\u001b[39;00m \u001b[38;5;28;01mimport\u001b[39;00m List, Optional, Union, Dict, Any\n\u001b[0;32m----> 7\u001b[0m \u001b[38;5;28;01mfrom\u001b[39;00m \u001b[38;5;21;01m.\u001b[39;00m\u001b[38;5;21;01mpipelines\u001b[39;00m\u001b[38;5;21;01m.\u001b[39;00m\u001b[38;5;21;01mclip_te_pipeline\u001b[39;00m \u001b[38;5;28;01mimport\u001b[39;00m (\n\u001b[1;32m      8\u001b[0m     CLIPTextEncoderPipeline, \n\u001b[1;32m      9\u001b[0m     CLIPTextEncoderPipelineInput,\n\u001b[1;32m     10\u001b[0m     CLIPTextEncoderPipelineOutput,\n\u001b[1;32m     11\u001b[0m )\n\u001b[1;32m     12\u001b[0m \u001b[38;5;66;03m# from .pipelines.transformer_te_pipeline import (\u001b[39;00m\n\u001b[1;32m     13\u001b[0m \u001b[38;5;66;03m#     TransformerTextEncoderPipeline,\u001b[39;00m\n\u001b[1;32m     14\u001b[0m \u001b[38;5;66;03m#     TransformerTextEncoderPipelineInput,\u001b[39;00m\n\u001b[1;32m     15\u001b[0m \u001b[38;5;66;03m# )\u001b[39;00m\n\u001b[1;32m     16\u001b[0m \u001b[38;5;28;01mfrom\u001b[39;00m \u001b[38;5;21;01m.\u001b[39;00m\u001b[38;5;21;01m.\u001b[39;00m\u001b[38;5;21;01mmodels\u001b[39;00m\u001b[38;5;21;01m.\u001b[39;00m\u001b[38;5;21;01mtext_encoder_model\u001b[39;00m \u001b[38;5;28;01mimport\u001b[39;00m TextEncoderModel\n",
      "File \u001b[0;32m~/dev/YggDrasill/pipelines/pipelines/clip_te_pipeline.py:7\u001b[0m\n\u001b[1;32m      4\u001b[0m \u001b[38;5;28;01mfrom\u001b[39;00m \u001b[38;5;21;01mtyping\u001b[39;00m \u001b[38;5;28;01mimport\u001b[39;00m List, Optional, Union\n\u001b[1;32m      5\u001b[0m \u001b[38;5;28;01mfrom\u001b[39;00m \u001b[38;5;21;01mdiffusers\u001b[39;00m\u001b[38;5;21;01m.\u001b[39;00m\u001b[38;5;21;01mutils\u001b[39;00m \u001b[38;5;28;01mimport\u001b[39;00m BaseOutput\n\u001b[0;32m----> 7\u001b[0m \u001b[38;5;28;01mfrom\u001b[39;00m \u001b[38;5;21;01m.\u001b[39;00m\u001b[38;5;21;01m.\u001b[39;00m\u001b[38;5;21;01m.\u001b[39;00m\u001b[38;5;21;01mstable_diffusion_model\u001b[39;00m \u001b[38;5;28;01mimport\u001b[39;00m StableDiffusionModelKey\n\u001b[1;32m      8\u001b[0m \u001b[38;5;28;01mfrom\u001b[39;00m \u001b[38;5;21;01m.\u001b[39;00m\u001b[38;5;21;01m.\u001b[39;00m\u001b[38;5;21;01m.\u001b[39;00m\u001b[38;5;21;01mmodels\u001b[39;00m\u001b[38;5;21;01m.\u001b[39;00m\u001b[38;5;21;01mmodels\u001b[39;00m\u001b[38;5;21;01m.\u001b[39;00m\u001b[38;5;21;01mclip_te_model\u001b[39;00m \u001b[38;5;28;01mimport\u001b[39;00m CLIPTextEncoderModel\n\u001b[1;32m     11\u001b[0m \u001b[38;5;129m@dataclass\u001b[39m\n\u001b[1;32m     12\u001b[0m \u001b[38;5;28;01mclass\u001b[39;00m \u001b[38;5;21;01mCLIPTextEncoderPipelineInput\u001b[39;00m(BaseOutput):\n",
      "\u001b[0;31mImportError\u001b[0m: cannot import name 'StableDiffusionModelKey' from partially initialized module 'YggDrasill.stable_diffusion_model' (most likely due to a circular import) (/root/dev/YggDrasill/stable_diffusion_model.py)"
     ]
    }
   ],
   "source": [
    "from YggDrasill.stable_diffusion_pipeline import StableDiffusionPipeline\n",
    "from YggDrasill.stable_diffusion_model import StableDiffusionModel, StableDiffusionModelKey\n",
    "\n",
    "KEY = StableDiffusionModelKey()\n",
    "\n",
    "sd_model = StableDiffusionModel(**KEY)\n",
    "sd_pipeline = StableDiffusionPipeline(**KEY)"
   ]
  },
  {
   "cell_type": "code",
   "execution_count": 2,
   "metadata": {},
   "outputs": [],
   "source": [
    "from YggDrasill.core.diffusion_pipeline import ForwardDiffusionInput\n",
    "from YggDrasill.stable_diffusion_pipeline import StableDiffusionPipelineInput, DiffusionPipelineInput, TextEncoderPipelineInput\n",
    "\n",
    "INPUT = StableDiffusionPipelineInput(\n",
    "    diffusion_input = DiffusionPipelineInput(\n",
    "        forward_input = ForwardDiffusionInput(\n",
    "            strength = 1.0,\n",
    "            num_inference_steps = 30,\n",
    "        )\n",
    "    ),\n",
    "    use_refiner = False,\n",
    "    guidance_scale = 5.0,\n",
    "    te_input = TextEncoderPipelineInput(\n",
    "        prompt=[\n",
    "            \"cat\",\n",
    "            \"dog\",\n",
    "        ],\n",
    "        # prompt_2=[\n",
    "        #     \"cat\",\n",
    "        #     \"dog\",\n",
    "        # ],\n",
    "        negative_prompt=[\n",
    "            \"\",\n",
    "            \"\",\n",
    "        ],\n",
    "        clip_skip=2,\n",
    "    )\n",
    ")"
   ]
  },
  {
   "cell_type": "code",
   "execution_count": 3,
   "metadata": {},
   "outputs": [
    {
     "name": "stdout",
     "output_type": "stream",
     "text": [
      "StableDiffusionPipeline --->\n",
      "CLIPTextEncoderModel --->\n"
     ]
    },
    {
     "name": "stdout",
     "output_type": "stream",
     "text": [
      "torch.Size([2, 77, 768])\n",
      "torch.Size([2, 77, 1280])\n",
      "torch.Size([2, 1280])\n",
      "CLIPTextEncoderModel --->\n",
      "torch.Size([4, 77, 768])\n",
      "torch.Size([4, 77, 1280])\n",
      "torch.Size([4, 1280])\n",
      "StableDiffusionModel --->\n"
     ]
    },
    {
     "ename": "AttributeError",
     "evalue": "'StableDiffusionPipeline' object has no attribute 'diffuser'",
     "output_type": "error",
     "traceback": [
      "\u001b[0;31m---------------------------------------------------------------------------\u001b[0m",
      "\u001b[0;31mAttributeError\u001b[0m                            Traceback (most recent call last)",
      "Cell \u001b[0;32mIn[3], line 1\u001b[0m\n\u001b[0;32m----> 1\u001b[0m \u001b[43msd_pipeline\u001b[49m\u001b[43m(\u001b[49m\n\u001b[1;32m      2\u001b[0m \u001b[43m    \u001b[49m\u001b[43mmodel\u001b[49m\u001b[43m \u001b[49m\u001b[38;5;241;43m=\u001b[39;49m\u001b[43m \u001b[49m\u001b[43msd_model\u001b[49m\u001b[43m,\u001b[49m\n\u001b[1;32m      3\u001b[0m \u001b[43m    \u001b[49m\u001b[38;5;241;43m*\u001b[39;49m\u001b[38;5;241;43m*\u001b[39;49m\u001b[43mINPUT\u001b[49m\u001b[43m,\u001b[49m\n\u001b[1;32m      4\u001b[0m \u001b[43m)\u001b[49m\n",
      "File \u001b[0;32m~/dev/YggDrasill/stable_diffusion_pipeline.py:83\u001b[0m, in \u001b[0;36mStableDiffusionPipeline.__call__\u001b[0;34m(self, model, diffusion_input, te_input, use_refiner, guidance_scale, aesthetic_score, negative_aesthetic_score, **kwargs)\u001b[0m\n\u001b[1;32m     77\u001b[0m diffusion_input \u001b[38;5;241m=\u001b[39m DiffusionPipelineInput(\n\u001b[1;32m     78\u001b[0m     \u001b[38;5;66;03m# conditions=Conditions(**conditions),\u001b[39;00m\n\u001b[1;32m     79\u001b[0m     conditions\u001b[38;5;241m=\u001b[39mconditions,\n\u001b[1;32m     80\u001b[0m     \u001b[38;5;241m*\u001b[39m\u001b[38;5;241m*\u001b[39mdiffusion_input,\n\u001b[1;32m     81\u001b[0m )\n\u001b[1;32m     82\u001b[0m \u001b[38;5;28;01mif\u001b[39;00m \u001b[38;5;124m\"\u001b[39m\u001b[38;5;124m2. Учитывая переданные аргументы, используем полученный/ые пайплайны\u001b[39m\u001b[38;5;124m\"\u001b[39m:\n\u001b[0;32m---> 83\u001b[0m     diffusion_output \u001b[38;5;241m=\u001b[39m \u001b[38;5;28;43mself\u001b[39;49m\u001b[38;5;241;43m.\u001b[39;49m\u001b[43mdiffusion_process\u001b[49m\u001b[43m(\u001b[49m\n\u001b[1;32m     84\u001b[0m \u001b[43m        \u001b[49m\u001b[38;5;66;43;03m# model.diffuser,\u001b[39;49;00m\n\u001b[1;32m     85\u001b[0m \u001b[43m        \u001b[49m\u001b[38;5;241;43m*\u001b[39;49m\u001b[38;5;241;43m*\u001b[39;49m\u001b[43mdiffusion_input\u001b[49m\u001b[43m,\u001b[49m\n\u001b[1;32m     86\u001b[0m \u001b[43m    \u001b[49m\u001b[43m)\u001b[49m\n",
      "File \u001b[0;32m~/dev/YggDrasill/core/diffusion_pipeline.py:72\u001b[0m, in \u001b[0;36mDiffusionPipeline.diffusion_process\u001b[0;34m(self, batch_size, width, height, conditions, image, generator, mask_image, forward_input, **kwargs)\u001b[0m\n\u001b[1;32m     52\u001b[0m \u001b[38;5;28;01mdef\u001b[39;00m \u001b[38;5;21mdiffusion_process\u001b[39m(\n\u001b[1;32m     53\u001b[0m     \u001b[38;5;28mself\u001b[39m,\n\u001b[1;32m     54\u001b[0m     \u001b[38;5;66;03m# diffuser: DiffusionModel,\u001b[39;00m\n\u001b[0;32m   (...)\u001b[0m\n\u001b[1;32m     64\u001b[0m ):  \n\u001b[1;32m     65\u001b[0m     \u001b[38;5;66;03m# Препроцессим выходные данные\u001b[39;00m\n\u001b[1;32m     66\u001b[0m     (\n\u001b[1;32m     67\u001b[0m         _, \n\u001b[1;32m     68\u001b[0m         mask_latents, \n\u001b[1;32m     69\u001b[0m         image_latents, \n\u001b[1;32m     70\u001b[0m         masked_image_latents,\n\u001b[1;32m     71\u001b[0m     ) \u001b[38;5;241m=\u001b[39m \u001b[38;5;28mself\u001b[39m\u001b[38;5;241m.\u001b[39mpre_post_process(\n\u001b[0;32m---> 72\u001b[0m         vae \u001b[38;5;241m=\u001b[39m \u001b[38;5;28;43mself\u001b[39;49m\u001b[38;5;241;43m.\u001b[39;49m\u001b[43mdiffuser\u001b[49m\u001b[38;5;241m.\u001b[39mvae,\n\u001b[1;32m     73\u001b[0m         width \u001b[38;5;241m=\u001b[39m width,\n\u001b[1;32m     74\u001b[0m         height \u001b[38;5;241m=\u001b[39m height,\n\u001b[1;32m     75\u001b[0m         image \u001b[38;5;241m=\u001b[39m image,\n\u001b[1;32m     76\u001b[0m         generator \u001b[38;5;241m=\u001b[39m generator,\n\u001b[1;32m     77\u001b[0m         mask_image \u001b[38;5;241m=\u001b[39m mask_image,\n\u001b[1;32m     78\u001b[0m     )\n\u001b[1;32m     80\u001b[0m     initial_image \u001b[38;5;241m=\u001b[39m image_latents\n\u001b[1;32m     83\u001b[0m     \u001b[38;5;66;03m# Учитываем возможные пользовательские размеры изображений\u001b[39;00m\n",
      "\u001b[0;31mAttributeError\u001b[0m: 'StableDiffusionPipeline' object has no attribute 'diffuser'"
     ]
    }
   ],
   "source": [
    "sd_pipeline(\n",
    "    model = sd_model,\n",
    "    **INPUT,\n",
    ")"
   ]
  },
  {
   "cell_type": "code",
   "execution_count": null,
   "metadata": {},
   "outputs": [],
   "source": []
  },
  {
   "cell_type": "code",
   "execution_count": null,
   "metadata": {},
   "outputs": [],
   "source": []
  }
 ],
 "metadata": {
  "kernelspec": {
   "display_name": ".venv",
   "language": "python",
   "name": "python3"
  },
  "language_info": {
   "codemirror_mode": {
    "name": "ipython",
    "version": 3
   },
   "file_extension": ".py",
   "mimetype": "text/x-python",
   "name": "python",
   "nbconvert_exporter": "python",
   "pygments_lexer": "ipython3",
   "version": "3.10.12"
  }
 },
 "nbformat": 4,
 "nbformat_minor": 2
}
