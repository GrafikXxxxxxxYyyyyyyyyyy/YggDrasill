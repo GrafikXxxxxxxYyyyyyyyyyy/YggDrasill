{
 "cells": [
  {
   "cell_type": "code",
   "execution_count": 9,
   "metadata": {},
   "outputs": [],
   "source": [
    "# import torch\n",
    "\n",
    "# from YggDrasill.stable_diffusion_model import StableDiffusionModel, StableDiffusionModelKey\n",
    "\n",
    "# KEY = StableDiffusionModelKey(\n",
    "#     use_text_encoder=True,\n",
    "#     device = \"cuda\",\n",
    "#     model_type = \"sdxl\",\n",
    "#     dtype = torch.float16,\n",
    "#     model_path = \"GrafikXxxxxxxYyyyyyyyyyy/sdxl_Juggernaut\",\n",
    "# )\n",
    "\n",
    "# sd_model = StableDiffusionModel(**KEY)"
   ]
  },
  {
   "cell_type": "code",
   "execution_count": 10,
   "metadata": {},
   "outputs": [],
   "source": [
    "# from YggDrasill.core.diffusion_pipeline import DiffusionPipelineInput\n",
    "# from YggDrasill.core.pipelines.forward_diffusion import ForwardDiffusionInput\n",
    "# from YggDrasill.pipelines.text_encoder_pipeline import TextEncoderPipelineInput\n",
    "# from YggDrasill.stable_diffusion_pipeline import StableDiffusionPipeline, StableDiffusionPipelineInput\n",
    "\n",
    "# INPUT = StableDiffusionPipelineInput(\n",
    "#     diffusion_input = DiffusionPipelineInput(\n",
    "#         forward_input = ForwardDiffusionInput(\n",
    "#             strength = 1.0,\n",
    "#             num_inference_steps = 30,\n",
    "#         )\n",
    "#     ),\n",
    "#     use_refiner = False,\n",
    "#     guidance_scale = 5.0,\n",
    "#     te_input = TextEncoderPipelineInput(\n",
    "#         prompt=[\n",
    "#             \"cat\",\n",
    "#             \"dog\",\n",
    "#         ],\n",
    "#         # prompt_2=[\n",
    "#         #     \"cat\",\n",
    "#         #     \"dog\",\n",
    "#         # ],\n",
    "#         negative_prompt=[\n",
    "#             \"\",\n",
    "#             \"\",\n",
    "#         ],\n",
    "#         clip_skip=2,\n",
    "#         num_images_per_prompt=1,\n",
    "#     )\n",
    "# )\n",
    "\n",
    "# sd_pipeline = StableDiffusionPipeline()"
   ]
  },
  {
   "cell_type": "code",
   "execution_count": 11,
   "metadata": {},
   "outputs": [],
   "source": [
    "# sd_pipeline(\n",
    "#     model=sd_model,\n",
    "#     **INPUT,\n",
    "# )"
   ]
  },
  {
   "cell_type": "markdown",
   "metadata": {},
   "source": [
    "### Test Conditioner"
   ]
  },
  {
   "cell_type": "code",
   "execution_count": 3,
   "metadata": {},
   "outputs": [],
   "source": [
    "# import torch\n",
    "# from YggDrasill.stable_diffusion_model import StableDiffusionModelKey\n",
    "# from YggDrasill.models.text_encoder_model import TextEncoderModel\n",
    "\n",
    "# KEY = StableDiffusionModelKey(\n",
    "#     device = \"cuda\",\n",
    "#     model_type = \"sdxl\",\n",
    "#     dtype = torch.float16,\n",
    "#     model_path = \"GrafikXxxxxxxYyyyyyyyyyy/sdxl_Juggernaut\",\n",
    "# )\n",
    "\n",
    "# text_encoder = TextEncoderModel(**KEY)"
   ]
  },
  {
   "cell_type": "code",
   "execution_count": 4,
   "metadata": {},
   "outputs": [],
   "source": [
    "# from YggDrasill.pipelines.text_encoder_pipeline import TextEncoderPipeline, TextEncoderPipelineInput\n",
    "\n",
    "# INPUT = TextEncoderPipelineInput(\n",
    "#     prompt=[\n",
    "#         \"cat\",\n",
    "#         \"dog\",\n",
    "#     ],\n",
    "#     negative_prompt=[\n",
    "#         \"\",\n",
    "#         \"\",\n",
    "#     ],\n",
    "#     clip_skip=2,\n",
    "#     num_images_per_prompt=3,\n",
    "# )\n",
    "\n",
    "# te_pipeline = TextEncoderPipeline()"
   ]
  },
  {
   "cell_type": "code",
   "execution_count": 5,
   "metadata": {},
   "outputs": [],
   "source": [
    "# result = te_pipeline(\n",
    "#     text_encoder=text_encoder,\n",
    "#     **INPUT,\n",
    "# )\n",
    "\n",
    "# result.clip_embeds_1.shape, result.clip_embeds_2.shape, result.pooled_clip_embeds.shape, "
   ]
  },
  {
   "cell_type": "code",
   "execution_count": null,
   "metadata": {},
   "outputs": [],
   "source": []
  },
  {
   "cell_type": "code",
   "execution_count": null,
   "metadata": {},
   "outputs": [],
   "source": []
  },
  {
   "cell_type": "code",
   "execution_count": null,
   "metadata": {},
   "outputs": [],
   "source": []
  },
  {
   "cell_type": "code",
   "execution_count": null,
   "metadata": {},
   "outputs": [],
   "source": []
  },
  {
   "cell_type": "code",
   "execution_count": null,
   "metadata": {},
   "outputs": [],
   "source": []
  }
 ],
 "metadata": {
  "kernelspec": {
   "display_name": ".venv",
   "language": "python",
   "name": "python3"
  },
  "language_info": {
   "codemirror_mode": {
    "name": "ipython",
    "version": 3
   },
   "file_extension": ".py",
   "mimetype": "text/x-python",
   "name": "python",
   "nbconvert_exporter": "python",
   "pygments_lexer": "ipython3",
   "version": "3.10.12"
  }
 },
 "nbformat": 4,
 "nbformat_minor": 2
}
