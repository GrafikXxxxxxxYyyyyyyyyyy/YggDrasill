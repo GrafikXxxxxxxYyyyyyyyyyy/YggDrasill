{
 "cells": [
  {
   "cell_type": "code",
   "execution_count": 1,
   "metadata": {},
   "outputs": [
    {
     "name": "stdout",
     "output_type": "stream",
     "text": [
      "NoisePredictor model has successfully loaded from 'GrafikXxxxxxxYyyyyyyyyyy/sdxl_Juggernaut' checkpoint!\n",
      "VAE model has successfully loaded from 'GrafikXxxxxxxYyyyyyyyyyy/sdxl_Juggernaut' checkpoint!\n",
      "TextEncoder model has successfully loaded from 'GrafikXxxxxxxYyyyyyyyyyy/sdxl_Juggernaut' checkpoint!\n"
     ]
    }
   ],
   "source": [
    "from YggDrasill.stable_diffusion_model import StableDiffusionModel, StableDiffusionModelKey\n",
    "\n",
    "\n",
    "KEY = StableDiffusionModelKey()\n",
    "\n",
    "sd = StableDiffusionModel(**KEY)"
   ]
  },
  {
   "cell_type": "code",
   "execution_count": 2,
   "metadata": {},
   "outputs": [],
   "source": [
    "from YggDrasill.stable_diffusion_pipeline import (\n",
    "    StableDiffusionPipeline,\n",
    "    DiffusionPipelineInput,\n",
    "    TextEncoderPipelineInput,\n",
    "    StableDiffusionPipelineInput,\n",
    ")\n",
    "from YggDrasill.core.pipelines.forward_diffusion import ForwardDiffusionInput\n",
    "\n",
    "te_input = TextEncoderPipelineInput(\n",
    "    prompt=[\n",
    "        \"\"\n",
    "    ],\n",
    "    clip_skip=2,\n",
    "    negative_prompt=[\n",
    "        \"\",\n",
    "    ],\n",
    ")\n",
    "\n",
    "sd_input = StableDiffusionPipelineInput(\n",
    "    diffusion_input=DiffusionPipelineInput(\n",
    "        forward_input=ForwardDiffusionInput(\n",
    "            # TODO: Тут хуйня должна принимать тупо шейп, который \n",
    "            # формируется в процессе выполнения пайпа\n",
    "            shape,\n",
    "            strength: float = 1,\n",
    "            num_inference_steps: int = 30,\n",
    "            timesteps: List[int] | None = None,\n",
    "            denoising_end: float | None = None,\n",
    "            denoising_start: float | None = None,\n",
    "            sample: FloatTensor | None = None,\n",
    "            noisy_sample: FloatTensor | None = None\n",
    "        ),\n",
    "        batch_size: int = 1,\n",
    "        num_channels: int = 4,\n",
    "        width: int | None = None,\n",
    "        height: int | None = None,\n",
    "        image: PipelineImageInput | None = None,\n",
    "        generator: Generator | None = None,\n",
    "        mask_image: PipelineImageInput | None = None\n",
    "    ),\n",
    "\n",
    "    use_refiner=False,\n",
    "    guidance_scale=7.0,\n",
    "    num_images_per_prompt=1,\n",
    "\n",
    "    te_input=TextEncoderPipelineInput(\n",
    "        prompt: str | List[str] | None = None,\n",
    "        clip_skip: int | None = None,\n",
    "        lora_scale: float | None = None,\n",
    "        prompt_2: str | List[str] | None = None,\n",
    "        negative_prompt: str | List[str] | None = None,\n",
    "        negative_prompt_2: str | List[str] | None = None\n",
    "    ),  \n",
    ")"
   ]
  },
  {
   "cell_type": "code",
   "execution_count": 3,
   "metadata": {},
   "outputs": [
    {
     "name": "stdout",
     "output_type": "stream",
     "text": [
      "StableDiffusionPipeline --->\n",
      "TextEncoderPipeline --->\n",
      "CLIPTextEncoderPipeline --->\n",
      "CLIPTextEncoderModel --->\n",
      "CLIPTextEncoderModel --->\n",
      "StableDiffusionModel --->\n"
     ]
    },
    {
     "ename": "TypeError",
     "evalue": "DiffusionPipeline.__call__() missing 1 required positional argument: 'forward_input'",
     "output_type": "error",
     "traceback": [
      "\u001b[0;31m---------------------------------------------------------------------------\u001b[0m",
      "\u001b[0;31mTypeError\u001b[0m                                 Traceback (most recent call last)",
      "Cell \u001b[0;32mIn[3], line 1\u001b[0m\n\u001b[0;32m----> 1\u001b[0m \u001b[43mStableDiffusionPipeline\u001b[49m\u001b[43m(\u001b[49m\u001b[43m)\u001b[49m\u001b[43m(\u001b[49m\u001b[43msd\u001b[49m\u001b[43m,\u001b[49m\u001b[43m \u001b[49m\u001b[38;5;241;43m*\u001b[39;49m\u001b[38;5;241;43m*\u001b[39;49m\u001b[43msd_input\u001b[49m\u001b[43m)\u001b[49m\n",
      "File \u001b[0;32m~/dev/YggDrasill/stable_diffusion_pipeline.py:81\u001b[0m, in \u001b[0;36mStableDiffusionPipeline.__call__\u001b[0;34m(self, model, diffusion_input, te_input, use_refiner, guidance_scale, num_images_per_prompt, refiner_steps, refiner_scale, aesthetic_score, negative_aesthetic_score, **kwargs)\u001b[0m\n\u001b[1;32m     79\u001b[0m \u001b[38;5;28;01mif\u001b[39;00m \u001b[38;5;124m\"\u001b[39m\u001b[38;5;124m3. Учитывая переданные аргументы, используем полученный/ые пайплайны\u001b[39m\u001b[38;5;124m\"\u001b[39m:\n\u001b[1;32m     80\u001b[0m     diffusion_pipeline \u001b[38;5;241m=\u001b[39m DiffusionPipeline()\n\u001b[0;32m---> 81\u001b[0m     output \u001b[38;5;241m=\u001b[39m \u001b[43mdiffusion_pipeline\u001b[49m\u001b[43m(\u001b[49m\n\u001b[1;32m     82\u001b[0m \u001b[43m        \u001b[49m\u001b[43mdiffuser\u001b[49m\u001b[38;5;241;43m=\u001b[39;49m\u001b[43mmodel\u001b[49m\u001b[38;5;241;43m.\u001b[39;49m\u001b[43mdiffuser\u001b[49m\u001b[43m,\u001b[49m\n\u001b[1;32m     83\u001b[0m \u001b[43m        \u001b[49m\u001b[38;5;241;43m*\u001b[39;49m\u001b[38;5;241;43m*\u001b[39;49m\u001b[43mdiffusion_input\u001b[49m\u001b[43m,\u001b[49m\n\u001b[1;32m     84\u001b[0m \u001b[43m    \u001b[49m\u001b[43m)\u001b[49m\n\u001b[1;32m     85\u001b[0m     \u001b[38;5;28;01mpass\u001b[39;00m\n\u001b[1;32m     89\u001b[0m \u001b[38;5;28;01mreturn\u001b[39;00m StableDiffusionPipelineOutput(\n\u001b[1;32m     90\u001b[0m     images\u001b[38;5;241m=\u001b[39moutput\u001b[38;5;241m.\u001b[39mimages\n\u001b[1;32m     91\u001b[0m )\n",
      "\u001b[0;31mTypeError\u001b[0m: DiffusionPipeline.__call__() missing 1 required positional argument: 'forward_input'"
     ]
    }
   ],
   "source": [
    "StableDiffusionPipeline()(sd, **sd_input)"
   ]
  },
  {
   "cell_type": "code",
   "execution_count": null,
   "metadata": {},
   "outputs": [],
   "source": []
  }
 ],
 "metadata": {
  "kernelspec": {
   "display_name": ".venv",
   "language": "python",
   "name": "python3"
  },
  "language_info": {
   "codemirror_mode": {
    "name": "ipython",
    "version": 3
   },
   "file_extension": ".py",
   "mimetype": "text/x-python",
   "name": "python",
   "nbconvert_exporter": "python",
   "pygments_lexer": "ipython3",
   "version": "3.10.12"
  }
 },
 "nbformat": 4,
 "nbformat_minor": 2
}
