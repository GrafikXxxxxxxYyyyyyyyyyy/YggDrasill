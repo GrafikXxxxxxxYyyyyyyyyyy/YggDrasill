{
 "cells": [
  {
   "cell_type": "code",
   "execution_count": 1,
   "metadata": {},
   "outputs": [
    {
     "name": "stdout",
     "output_type": "stream",
     "text": [
      "Scheduler has successfully changed to 'euler'\n"
     ]
    }
   ],
   "source": [
    "from YggDrasill.stable_diffusion_model import StableDiffusionModel, StableDiffusionModelKey\n",
    "\n",
    "KEY = StableDiffusionModelKey()\n",
    "\n",
    "sd_model = StableDiffusionModel(**KEY)"
   ]
  },
  {
   "cell_type": "code",
   "execution_count": 2,
   "metadata": {},
   "outputs": [],
   "source": [
    "from YggDrasill.core.diffusion_pipeline import ForwardDiffusionInput\n",
    "from YggDrasill.stable_diffusion_pipeline import (\n",
    "    StableDiffusionPipeline,\n",
    "    DiffusionPipelineInput, \n",
    "    TextEncoderPipelineInput,\n",
    "    StableDiffusionPipelineInput, \n",
    ")\n",
    "\n",
    "INPUT = StableDiffusionPipelineInput(\n",
    "    diffusion_input = DiffusionPipelineInput(\n",
    "        forward_input = ForwardDiffusionInput(\n",
    "            strength = 1.0,\n",
    "            num_inference_steps = 30,\n",
    "        )\n",
    "    ),\n",
    "    use_refiner = False,\n",
    "    guidance_scale = 5.0,\n",
    "    te_input = TextEncoderPipelineInput(\n",
    "        prompt=[\n",
    "            \"cat\",\n",
    "            \"dog\",\n",
    "        ],\n",
    "        # prompt_2=[\n",
    "        #     \"cat\",\n",
    "        #     \"dog\",\n",
    "        # ],\n",
    "        negative_prompt=[\n",
    "            \"\",\n",
    "            \"\",\n",
    "        ],\n",
    "        clip_skip=2,\n",
    "    )\n",
    ")\n",
    "\n",
    "sd_pipeline = StableDiffusionPipeline(\n",
    "    # # Инит со встраиванием модели\n",
    "    # model_key=KEY,\n",
    ")"
   ]
  },
  {
   "cell_type": "code",
   "execution_count": 3,
   "metadata": {},
   "outputs": [
    {
     "name": "stdout",
     "output_type": "stream",
     "text": [
      "StableDiffusionPipeline --->\n",
      "torch.Size([2, 77, 768])\n",
      "torch.Size([2, 77, 1280])\n",
      "torch.Size([2, 1280])\n",
      "torch.Size([4, 77, 768])\n",
      "torch.Size([4, 77, 1280])\n",
      "torch.Size([4, 1280])\n"
     ]
    },
    {
     "ename": "AttributeError",
     "evalue": "'StableDiffusionPipeline' object has no attribute 'scheduler'",
     "output_type": "error",
     "traceback": [
      "\u001b[0;31m---------------------------------------------------------------------------\u001b[0m",
      "\u001b[0;31mAttributeError\u001b[0m                            Traceback (most recent call last)",
      "Cell \u001b[0;32mIn[3], line 1\u001b[0m\n\u001b[0;32m----> 1\u001b[0m \u001b[43msd_pipeline\u001b[49m\u001b[43m(\u001b[49m\n\u001b[1;32m      2\u001b[0m \u001b[43m    \u001b[49m\u001b[43mINPUT\u001b[49m\u001b[43m,\u001b[49m\n\u001b[1;32m      3\u001b[0m \u001b[43m    \u001b[49m\u001b[43mmodel\u001b[49m\u001b[43m \u001b[49m\u001b[38;5;241;43m=\u001b[39;49m\u001b[43m \u001b[49m\u001b[43msd_model\u001b[49m\u001b[43m,\u001b[49m\n\u001b[1;32m      4\u001b[0m \u001b[43m)\u001b[49m\n",
      "File \u001b[0;32m~/dev/YggDrasill/stable_diffusion_pipeline.py:116\u001b[0m, in \u001b[0;36mStableDiffusionPipeline.__call__\u001b[0;34m(self, input, model, **kwargs)\u001b[0m\n\u001b[1;32m    110\u001b[0m \u001b[38;5;28;01mif\u001b[39;00m (\n\u001b[1;32m    111\u001b[0m     model \u001b[38;5;129;01mis\u001b[39;00m \u001b[38;5;129;01mnot\u001b[39;00m \u001b[38;5;28;01mNone\u001b[39;00m \n\u001b[1;32m    112\u001b[0m     \u001b[38;5;129;01mand\u001b[39;00m \u001b[38;5;28misinstance\u001b[39m(model, StableDiffusionModel)\n\u001b[1;32m    113\u001b[0m ):\n\u001b[1;32m    114\u001b[0m     \u001b[38;5;28mself\u001b[39m\u001b[38;5;241m.\u001b[39mmodel \u001b[38;5;241m=\u001b[39m model\n\u001b[0;32m--> 116\u001b[0m \u001b[38;5;28;01mreturn\u001b[39;00m \u001b[38;5;28;43mself\u001b[39;49m\u001b[38;5;241;43m.\u001b[39;49m\u001b[43mstable_diffusion_process\u001b[49m\u001b[43m(\u001b[49m\u001b[38;5;241;43m*\u001b[39;49m\u001b[38;5;241;43m*\u001b[39;49m\u001b[38;5;28;43minput\u001b[39;49m\u001b[43m)\u001b[49m\n",
      "File \u001b[0;32m~/dev/YggDrasill/stable_diffusion_pipeline.py:94\u001b[0m, in \u001b[0;36mStableDiffusionPipeline.stable_diffusion_process\u001b[0;34m(self, diffusion_input, use_refiner, guidance_scale, aesthetic_score, negative_aesthetic_score, te_input, **kwargs)\u001b[0m\n\u001b[1;32m     88\u001b[0m diffusion_input \u001b[38;5;241m=\u001b[39m DiffusionPipelineInput(\n\u001b[1;32m     89\u001b[0m     \u001b[38;5;66;03m# conditions=Conditions(**conditions),\u001b[39;00m\n\u001b[1;32m     90\u001b[0m     conditions\u001b[38;5;241m=\u001b[39mconditions,\n\u001b[1;32m     91\u001b[0m     \u001b[38;5;241m*\u001b[39m\u001b[38;5;241m*\u001b[39mdiffusion_input,\n\u001b[1;32m     92\u001b[0m )\n\u001b[1;32m     93\u001b[0m \u001b[38;5;28;01mif\u001b[39;00m \u001b[38;5;124m\"\u001b[39m\u001b[38;5;124m2. Учитывая переданные аргументы, используем полученный/ые пайплайны\u001b[39m\u001b[38;5;124m\"\u001b[39m:\n\u001b[0;32m---> 94\u001b[0m     diffusion_output \u001b[38;5;241m=\u001b[39m \u001b[38;5;28;43mself\u001b[39;49m\u001b[38;5;241;43m.\u001b[39;49m\u001b[43mdiffusion_process\u001b[49m\u001b[43m(\u001b[49m\u001b[38;5;241;43m*\u001b[39;49m\u001b[38;5;241;43m*\u001b[39;49m\u001b[43mdiffusion_input\u001b[49m\u001b[43m)\u001b[49m\n\u001b[1;32m     97\u001b[0m \u001b[38;5;28;01mreturn\u001b[39;00m StableDiffusionPipelineOutput(\n\u001b[1;32m     98\u001b[0m     images\u001b[38;5;241m=\u001b[39mdiffusion_output\u001b[38;5;241m.\u001b[39mimages\n\u001b[1;32m     99\u001b[0m )\n",
      "File \u001b[0;32m~/dev/YggDrasill/core/diffusion_pipeline.py:125\u001b[0m, in \u001b[0;36mDiffusionPipeline.diffusion_process\u001b[0;34m(self, batch_size, width, height, conditions, image, generator, mask_image, forward_input, **kwargs)\u001b[0m\n\u001b[1;32m    122\u001b[0m     forward_input\u001b[38;5;241m.\u001b[39mdevice \u001b[38;5;241m=\u001b[39m \u001b[38;5;28mself\u001b[39m\u001b[38;5;241m.\u001b[39mmodel\u001b[38;5;241m.\u001b[39mdevice\n\u001b[1;32m    123\u001b[0m     \u001b[38;5;66;03m# forward_input.denoising_end = \u001b[39;00m\n\u001b[1;32m    124\u001b[0m     \u001b[38;5;66;03m# forward_input.denoising_start = \u001b[39;00m\n\u001b[0;32m--> 125\u001b[0m     forward_output \u001b[38;5;241m=\u001b[39m \u001b[38;5;28;43mself\u001b[39;49m\u001b[38;5;241;43m.\u001b[39;49m\u001b[43mforward_pass\u001b[49m\u001b[43m(\u001b[49m\n\u001b[1;32m    126\u001b[0m \u001b[43m        \u001b[49m\u001b[43mshape\u001b[49m\u001b[38;5;241;43m=\u001b[39;49m\u001b[43m(\u001b[49m\n\u001b[1;32m    127\u001b[0m \u001b[43m            \u001b[49m\u001b[43mbatch_size\u001b[49m\u001b[43m,\u001b[49m\n\u001b[1;32m    128\u001b[0m \u001b[43m            \u001b[49m\u001b[38;5;28;43mself\u001b[39;49m\u001b[38;5;241;43m.\u001b[39;49m\u001b[43mmodel\u001b[49m\u001b[38;5;241;43m.\u001b[39;49m\u001b[43mnum_channels\u001b[49m\u001b[43m,\u001b[49m\n\u001b[1;32m    129\u001b[0m \u001b[43m            \u001b[49m\u001b[43mwidth\u001b[49m\u001b[43m,\u001b[49m\n\u001b[1;32m    130\u001b[0m \u001b[43m            \u001b[49m\u001b[43mheight\u001b[49m\u001b[43m,\u001b[49m\n\u001b[1;32m    131\u001b[0m \u001b[43m        \u001b[49m\u001b[43m)\u001b[49m\u001b[43m,\u001b[49m\n\u001b[1;32m    132\u001b[0m \u001b[43m        \u001b[49m\u001b[38;5;241;43m*\u001b[39;49m\u001b[38;5;241;43m*\u001b[39;49m\u001b[43mforward_input\u001b[49m\n\u001b[1;32m    133\u001b[0m \u001b[43m    \u001b[49m\u001b[43m)\u001b[49m   \n\u001b[1;32m    136\u001b[0m \u001b[38;5;28;01mif\u001b[39;00m \u001b[38;5;124m\"\u001b[39m\u001b[38;5;124mВозможно если будет использован контролнет, надо будет убрать это в цикл\u001b[39m\u001b[38;5;124m\"\u001b[39m:\n\u001b[1;32m    137\u001b[0m     extended_conditions \u001b[38;5;241m=\u001b[39m \u001b[38;5;28mself\u001b[39m\u001b[38;5;241m.\u001b[39mmodel\u001b[38;5;241m.\u001b[39mget_extended_conditions(\n\u001b[1;32m    138\u001b[0m         batch_size\u001b[38;5;241m=\u001b[39mbatch_size,\n\u001b[1;32m    139\u001b[0m         do_cfg\u001b[38;5;241m=\u001b[39m\u001b[38;5;28mself\u001b[39m\u001b[38;5;241m.\u001b[39mdo_cfg,\n\u001b[0;32m   (...)\u001b[0m\n\u001b[1;32m    142\u001b[0m         conditions\u001b[38;5;241m=\u001b[39mconditions,\n\u001b[1;32m    143\u001b[0m     )\n",
      "File \u001b[0;32m~/dev/YggDrasill/core/pipelines/forward_diffusion.py:57\u001b[0m, in \u001b[0;36mForwardDiffusion.forward_pass\u001b[0;34m(self, shape, device, strength, num_inference_steps, dtype, timesteps, denoising_end, denoising_start, sample, generator, noisy_sample, **kwargs)\u001b[0m\n\u001b[1;32m     55\u001b[0m t_start \u001b[38;5;241m=\u001b[39m \u001b[38;5;28mmax\u001b[39m(num_inference_steps \u001b[38;5;241m-\u001b[39m init_timestep, \u001b[38;5;241m0\u001b[39m)\n\u001b[1;32m     56\u001b[0m \u001b[38;5;66;03m# Устанавливаются шаги и возвращаются с учтенной силой\u001b[39;00m\n\u001b[0;32m---> 57\u001b[0m \u001b[38;5;28;43mself\u001b[39;49m\u001b[38;5;241;43m.\u001b[39;49m\u001b[43mscheduler\u001b[49m\u001b[38;5;241m.\u001b[39mset_timesteps(num_inference_steps, device\u001b[38;5;241m=\u001b[39m\u001b[38;5;28mself\u001b[39m\u001b[38;5;241m.\u001b[39mdevice)\n\u001b[1;32m     58\u001b[0m timesteps \u001b[38;5;241m=\u001b[39m \u001b[38;5;28mself\u001b[39m\u001b[38;5;241m.\u001b[39mscheduler\u001b[38;5;241m.\u001b[39mtimesteps[t_start \u001b[38;5;241m*\u001b[39m \u001b[38;5;28mself\u001b[39m\u001b[38;5;241m.\u001b[39mscheduler\u001b[38;5;241m.\u001b[39morder :]\n\u001b[1;32m     59\u001b[0m num_inference_steps \u001b[38;5;241m=\u001b[39m \u001b[38;5;28mlen\u001b[39m(timesteps)\n",
      "\u001b[0;31mAttributeError\u001b[0m: 'StableDiffusionPipeline' object has no attribute 'scheduler'"
     ]
    }
   ],
   "source": [
    "sd_pipeline(\n",
    "    INPUT,\n",
    "    model = sd_model,\n",
    ")"
   ]
  },
  {
   "cell_type": "code",
   "execution_count": null,
   "metadata": {},
   "outputs": [],
   "source": []
  },
  {
   "cell_type": "code",
   "execution_count": null,
   "metadata": {},
   "outputs": [],
   "source": []
  },
  {
   "cell_type": "code",
   "execution_count": null,
   "metadata": {},
   "outputs": [],
   "source": []
  }
 ],
 "metadata": {
  "kernelspec": {
   "display_name": ".venv",
   "language": "python",
   "name": "python3"
  },
  "language_info": {
   "codemirror_mode": {
    "name": "ipython",
    "version": 3
   },
   "file_extension": ".py",
   "mimetype": "text/x-python",
   "name": "python",
   "nbconvert_exporter": "python",
   "pygments_lexer": "ipython3",
   "version": "3.10.12"
  }
 },
 "nbformat": 4,
 "nbformat_minor": 2
}
