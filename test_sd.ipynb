{
 "cells": [
  {
   "cell_type": "code",
   "execution_count": 1,
   "metadata": {},
   "outputs": [
    {
     "name": "stdout",
     "output_type": "stream",
     "text": [
      "Scheduler has successfully changed to 'euler'\n",
      "NoisePredictor model has successfully loaded from 'GrafikXxxxxxxYyyyyyyyyyy/sdxl_Juggernaut' checkpoint!\n",
      "\t<<<BackwardDiffuser ready!>>>\t\n",
      "VAE model has successfully loaded from 'GrafikXxxxxxxYyyyyyyyyyy/sdxl_Juggernaut' checkpoint!\n",
      "\t<<<DiffusionModel ready!>>>\t\n",
      "CLIPTextEncoderModel model has successfully loaded from 'GrafikXxxxxxxYyyyyyyyyyy/sdxl_Juggernaut' checkpoint!\n",
      "\t<<<StableDiffusionModel ready!>>>\t\n",
      "\t<<<StableDiffusionModel ready!>>>\t\n"
     ]
    }
   ],
   "source": [
    "import torch\n",
    "\n",
    "from YggDrasill.stable_diffusion_model import StableDiffusionModel, StableDiffusionModelKey\n",
    "\n",
    "KEY = StableDiffusionModelKey(\n",
    "    use_text_encoder=True,\n",
    "    device = \"cuda\",\n",
    "    model_type = \"sdxl\",\n",
    "    dtype = torch.float16,\n",
    "    model_path = \"GrafikXxxxxxxYyyyyyyyyyy/sdxl_Juggernaut\",\n",
    ")\n",
    "\n",
    "sd_model = StableDiffusionModel(**KEY)"
   ]
  },
  {
   "cell_type": "code",
   "execution_count": 3,
   "metadata": {},
   "outputs": [
    {
     "ename": "ImportError",
     "evalue": "cannot import name 'Conditions' from 'YggDrasill.core.diffusion_model' (/root/dev/YggDrasill/core/diffusion_model.py)",
     "output_type": "error",
     "traceback": [
      "\u001b[0;31m---------------------------------------------------------------------------\u001b[0m",
      "\u001b[0;31mImportError\u001b[0m                               Traceback (most recent call last)",
      "Cell \u001b[0;32mIn[3], line 1\u001b[0m\n\u001b[0;32m----> 1\u001b[0m \u001b[38;5;28;01mfrom\u001b[39;00m \u001b[38;5;21;01mYggDrasill\u001b[39;00m\u001b[38;5;21;01m.\u001b[39;00m\u001b[38;5;21;01mcore\u001b[39;00m\u001b[38;5;21;01m.\u001b[39;00m\u001b[38;5;21;01mdiffusion_pipeline\u001b[39;00m \u001b[38;5;28;01mimport\u001b[39;00m DiffusionPipelineInput\n\u001b[1;32m      2\u001b[0m \u001b[38;5;28;01mfrom\u001b[39;00m \u001b[38;5;21;01mYggDrasill\u001b[39;00m\u001b[38;5;21;01m.\u001b[39;00m\u001b[38;5;21;01mcore\u001b[39;00m\u001b[38;5;21;01m.\u001b[39;00m\u001b[38;5;21;01mpipelines\u001b[39;00m\u001b[38;5;21;01m.\u001b[39;00m\u001b[38;5;21;01mforward_diffusion\u001b[39;00m \u001b[38;5;28;01mimport\u001b[39;00m ForwardDiffusionInput\n\u001b[1;32m      3\u001b[0m \u001b[38;5;28;01mfrom\u001b[39;00m \u001b[38;5;21;01mYggDrasill\u001b[39;00m\u001b[38;5;21;01m.\u001b[39;00m\u001b[38;5;21;01mpipelines\u001b[39;00m\u001b[38;5;21;01m.\u001b[39;00m\u001b[38;5;21;01mconditioner_pipeline\u001b[39;00m \u001b[38;5;28;01mimport\u001b[39;00m ConditionerPipelineInput, TextEncoderPipelineInput\n",
      "File \u001b[0;32m~/dev/YggDrasill/core/diffusion_pipeline.py:9\u001b[0m\n\u001b[1;32m      6\u001b[0m \u001b[38;5;28;01mfrom\u001b[39;00m \u001b[38;5;21;01mdiffusers\u001b[39;00m\u001b[38;5;21;01m.\u001b[39;00m\u001b[38;5;21;01mutils\u001b[39;00m \u001b[38;5;28;01mimport\u001b[39;00m BaseOutput\n\u001b[1;32m      7\u001b[0m \u001b[38;5;28;01mfrom\u001b[39;00m \u001b[38;5;21;01mdiffusers\u001b[39;00m\u001b[38;5;21;01m.\u001b[39;00m\u001b[38;5;21;01mimage_processor\u001b[39;00m \u001b[38;5;28;01mimport\u001b[39;00m PipelineImageInput\n\u001b[0;32m----> 9\u001b[0m \u001b[38;5;28;01mfrom\u001b[39;00m \u001b[38;5;21;01m.\u001b[39;00m\u001b[38;5;21;01mdiffusion_model\u001b[39;00m \u001b[38;5;28;01mimport\u001b[39;00m Conditions, DiffusionModel\n\u001b[1;32m     10\u001b[0m \u001b[38;5;28;01mfrom\u001b[39;00m \u001b[38;5;21;01m.\u001b[39;00m\u001b[38;5;21;01mpipelines\u001b[39;00m\u001b[38;5;21;01m.\u001b[39;00m\u001b[38;5;21;01mvae_pipeline\u001b[39;00m \u001b[38;5;28;01mimport\u001b[39;00m VaePipeline\n\u001b[1;32m     11\u001b[0m \u001b[38;5;28;01mfrom\u001b[39;00m \u001b[38;5;21;01m.\u001b[39;00m\u001b[38;5;21;01mpipelines\u001b[39;00m\u001b[38;5;21;01m.\u001b[39;00m\u001b[38;5;21;01mforward_diffusion\u001b[39;00m \u001b[38;5;28;01mimport\u001b[39;00m ForwardDiffusion, ForwardDiffusionInput\n",
      "\u001b[0;31mImportError\u001b[0m: cannot import name 'Conditions' from 'YggDrasill.core.diffusion_model' (/root/dev/YggDrasill/core/diffusion_model.py)"
     ]
    }
   ],
   "source": [
    "from YggDrasill.core.diffusion_pipeline import DiffusionPipelineInput\n",
    "from YggDrasill.core.pipelines.forward_diffusion import ForwardDiffusionInput\n",
    "from YggDrasill.pipelines.conditioner_pipeline import ConditionerPipelineInput, TextEncoderPipelineInput\n",
    "from YggDrasill.stable_diffusion_pipeline import StableDiffusionPipeline, StableDiffusionPipelineInput\n",
    "\n",
    "INPUT = StableDiffusionPipelineInput(\n",
    "    diffusion_input = DiffusionPipelineInput(\n",
    "        forward_input = ForwardDiffusionInput(\n",
    "            strength = 1.0,\n",
    "            num_inference_steps = 30,\n",
    "        )\n",
    "    ),\n",
    "    # use_refiner = False,\n",
    "    # guidance_scale = 5.0,\n",
    "    conditioner_input = ConditionerPipelineInput(\n",
    "        te_input = TextEncoderPipelineInput(\n",
    "            prompt=[\n",
    "                \"cat\",\n",
    "                \"dog\",\n",
    "            ],\n",
    "            # prompt_2=[\n",
    "            #     \"cat\",\n",
    "            #     \"dog\",\n",
    "            # ],\n",
    "            negative_prompt=[\n",
    "                \"\",\n",
    "                \"\",\n",
    "            ],\n",
    "            clip_skip=2,\n",
    "            num_images_per_prompt=1,\n",
    "        )\n",
    "    )\n",
    ")\n",
    "\n",
    "sd_pipeline = StableDiffusionPipeline()"
   ]
  },
  {
   "cell_type": "code",
   "execution_count": 11,
   "metadata": {},
   "outputs": [],
   "source": [
    "sd_pipeline(\n",
    "    model=sd_model,\n",
    "    **INPUT,\n",
    ")"
   ]
  },
  {
   "cell_type": "markdown",
   "metadata": {},
   "source": [
    "### Test Conditioner"
   ]
  },
  {
   "cell_type": "code",
   "execution_count": 3,
   "metadata": {},
   "outputs": [],
   "source": [
    "# import torch\n",
    "# from YggDrasill.stable_diffusion_model import StableDiffusionModelKey\n",
    "# from YggDrasill.models.text_encoder_model import TextEncoderModel\n",
    "\n",
    "# KEY = StableDiffusionModelKey(\n",
    "#     device = \"cuda\",\n",
    "#     model_type = \"sdxl\",\n",
    "#     dtype = torch.float16,\n",
    "#     model_path = \"GrafikXxxxxxxYyyyyyyyyyy/sdxl_Juggernaut\",\n",
    "# )\n",
    "\n",
    "# text_encoder = TextEncoderModel(**KEY)"
   ]
  },
  {
   "cell_type": "code",
   "execution_count": 4,
   "metadata": {},
   "outputs": [],
   "source": [
    "# from YggDrasill.pipelines.text_encoder_pipeline import TextEncoderPipeline, TextEncoderPipelineInput\n",
    "\n",
    "# INPUT = TextEncoderPipelineInput(\n",
    "#     prompt=[\n",
    "#         \"cat\",\n",
    "#         \"dog\",\n",
    "#     ],\n",
    "#     negative_prompt=[\n",
    "#         \"\",\n",
    "#         \"\",\n",
    "#     ],\n",
    "#     clip_skip=2,\n",
    "#     num_images_per_prompt=3,\n",
    "# )\n",
    "\n",
    "# te_pipeline = TextEncoderPipeline()"
   ]
  },
  {
   "cell_type": "code",
   "execution_count": 5,
   "metadata": {},
   "outputs": [],
   "source": [
    "# result = te_pipeline(\n",
    "#     text_encoder=text_encoder,\n",
    "#     **INPUT,\n",
    "# )\n",
    "\n",
    "# result.clip_embeds_1.shape, result.clip_embeds_2.shape, result.pooled_clip_embeds.shape, "
   ]
  },
  {
   "cell_type": "code",
   "execution_count": null,
   "metadata": {},
   "outputs": [],
   "source": []
  },
  {
   "cell_type": "code",
   "execution_count": null,
   "metadata": {},
   "outputs": [],
   "source": []
  },
  {
   "cell_type": "code",
   "execution_count": null,
   "metadata": {},
   "outputs": [],
   "source": []
  },
  {
   "cell_type": "code",
   "execution_count": null,
   "metadata": {},
   "outputs": [],
   "source": []
  },
  {
   "cell_type": "code",
   "execution_count": null,
   "metadata": {},
   "outputs": [],
   "source": []
  }
 ],
 "metadata": {
  "kernelspec": {
   "display_name": ".venv",
   "language": "python",
   "name": "python3"
  },
  "language_info": {
   "codemirror_mode": {
    "name": "ipython",
    "version": 3
   },
   "file_extension": ".py",
   "mimetype": "text/x-python",
   "name": "python",
   "nbconvert_exporter": "python",
   "pygments_lexer": "ipython3",
   "version": "3.10.12"
  }
 },
 "nbformat": 4,
 "nbformat_minor": 2
}
