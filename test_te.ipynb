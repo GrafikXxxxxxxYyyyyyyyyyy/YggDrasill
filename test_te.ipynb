{
 "cells": [
  {
   "cell_type": "markdown",
   "metadata": {},
   "source": [
    "### Test TextEncoder classes"
   ]
  },
  {
   "cell_type": "code",
   "execution_count": 1,
   "metadata": {},
   "outputs": [],
   "source": [
    "import torch\n",
    "\n",
    "from dataclasses import dataclass\n",
    "from typing import Optional, Union\n",
    "from diffusers.utils import BaseOutput\n",
    "\n",
    "@dataclass\n",
    "class ModelKey(BaseOutput):\n",
    "    author: str = \"GrafikXxxxxxxYyyyyyyyyyy\"\n",
    "    model_path: str = \"GrafikXxxxxxxYyyyyyyyyyy/sdxl_Juggernaut\"\n",
    "    model_type: str = \"sdxl\"\n",
    "    device: str = \"cuda\"\n",
    "    dtype: torch.dtype = torch.float16\n",
    "    scheduler_name: Optional[str] = \"euler_a\""
   ]
  },
  {
   "cell_type": "code",
   "execution_count": 2,
   "metadata": {},
   "outputs": [
    {
     "name": "stdout",
     "output_type": "stream",
     "text": [
      "TextEncoder model has successfully loaded from 'GrafikXxxxxxxYyyyyyyyyyy/sdxl_Juggernaut' checkpoint!\n"
     ]
    }
   ],
   "source": [
    "from YggDrasill.models.text_encoder_model import TextEncoderModel\n",
    "\n",
    "text_encoder = TextEncoderModel(**ModelKey())"
   ]
  },
  {
   "cell_type": "code",
   "execution_count": 3,
   "metadata": {},
   "outputs": [],
   "source": [
    "from YggDrasill.pipelines.text_encoder_pipeline import TextEncoderPipeline, TextEncoderPipelineInput\n",
    "\n",
    "te_pipeline = TextEncoderPipeline()\n",
    "te_input = TextEncoderPipelineInput(\n",
    "    prompt = [\n",
    "        \"a\",\n",
    "        \"b\"\n",
    "    ],\n",
    "    prompt_2 = None,\n",
    "    # negative_prompt = [\n",
    "\n",
    "    # ],\n",
    "    # negative_prompt_2 = [\n",
    "\n",
    "    # ],\n",
    "    lora_scale = None,\n",
    "    clip_skip = None,\n",
    ")"
   ]
  },
  {
   "cell_type": "code",
   "execution_count": 4,
   "metadata": {},
   "outputs": [
    {
     "name": "stdout",
     "output_type": "stream",
     "text": [
      "TextEncoderPipeline --->\n",
      "CLIPTextEncoderPipeline --->\n",
      "CLIPTextEncoderModel --->\n"
     ]
    },
    {
     "ename": "AttributeError",
     "evalue": "'NoneType' object has no attribute 'shape'",
     "output_type": "error",
     "traceback": [
      "\u001b[0;31m---------------------------------------------------------------------------\u001b[0m",
      "\u001b[0;31mAttributeError\u001b[0m                            Traceback (most recent call last)",
      "Cell \u001b[0;32mIn[4], line 8\u001b[0m\n\u001b[1;32m      1\u001b[0m te_output \u001b[38;5;241m=\u001b[39m te_pipeline(\n\u001b[1;32m      2\u001b[0m     text_encoder,\n\u001b[1;32m      3\u001b[0m     \u001b[38;5;241m*\u001b[39m\u001b[38;5;241m*\u001b[39mte_input\n\u001b[1;32m      4\u001b[0m )\n\u001b[1;32m      6\u001b[0m \u001b[38;5;28mprint\u001b[39m(\n\u001b[1;32m      7\u001b[0m     te_output\u001b[38;5;241m.\u001b[39mclip_embeds_1\u001b[38;5;241m.\u001b[39mshape, \n\u001b[0;32m----> 8\u001b[0m     \u001b[43mte_output\u001b[49m\u001b[38;5;241;43m.\u001b[39;49m\u001b[43mclip_embeds_2\u001b[49m\u001b[38;5;241;43m.\u001b[39;49m\u001b[43mshape\u001b[49m, \n\u001b[1;32m      9\u001b[0m     te_output\u001b[38;5;241m.\u001b[39mpooled_clip_embeds\u001b[38;5;241m.\u001b[39mshape\n\u001b[1;32m     10\u001b[0m )\n",
      "\u001b[0;31mAttributeError\u001b[0m: 'NoneType' object has no attribute 'shape'"
     ]
    }
   ],
   "source": [
    "te_output = te_pipeline(\n",
    "    text_encoder,\n",
    "    **te_input\n",
    ")\n",
    "\n",
    "print(\n",
    "    te_output.clip_embeds_1.shape, \n",
    "    te_output.clip_embeds_2.shape, \n",
    "    te_output.pooled_clip_embeds.shape\n",
    ")"
   ]
  },
  {
   "cell_type": "code",
   "execution_count": null,
   "metadata": {},
   "outputs": [],
   "source": []
  },
  {
   "cell_type": "code",
   "execution_count": null,
   "metadata": {},
   "outputs": [],
   "source": [
    "# !pip3 freeze > requirements.txt"
   ]
  },
  {
   "cell_type": "code",
   "execution_count": null,
   "metadata": {},
   "outputs": [],
   "source": []
  }
 ],
 "metadata": {
  "kernelspec": {
   "display_name": ".venv",
   "language": "python",
   "name": "python3"
  },
  "language_info": {
   "codemirror_mode": {
    "name": "ipython",
    "version": 3
   },
   "file_extension": ".py",
   "mimetype": "text/x-python",
   "name": "python",
   "nbconvert_exporter": "python",
   "pygments_lexer": "ipython3",
   "version": "3.10.12"
  }
 },
 "nbformat": 4,
 "nbformat_minor": 2
}
