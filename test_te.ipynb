{
 "cells": [
  {
   "cell_type": "markdown",
   "metadata": {},
   "source": [
    "### Test TextEncoder classes"
   ]
  },
  {
   "cell_type": "code",
   "execution_count": 1,
   "metadata": {},
   "outputs": [],
   "source": [
    "import torch\n",
    "\n",
    "from dataclasses import dataclass\n",
    "from typing import Optional, Union\n",
    "from diffusers.utils import BaseOutput\n",
    "\n",
    "@dataclass\n",
    "class ModelKey(BaseOutput):\n",
    "    author: str = \"GrafikXxxxxxxYyyyyyyyyyy\"\n",
    "    model_path: str = \"GrafikXxxxxxxYyyyyyyyyyy/sdxl_Juggernaut\"\n",
    "    model_type: str = \"sdxl\"\n",
    "    device: str = \"cuda\"\n",
    "    dtype: torch.dtype = torch.float16\n",
    "    scheduler_name: Optional[str] = \"euler_a\""
   ]
  },
  {
   "cell_type": "code",
   "execution_count": 2,
   "metadata": {},
   "outputs": [
    {
     "name": "stdout",
     "output_type": "stream",
     "text": [
      "TextEncoder model has successfully loaded from 'GrafikXxxxxxxYyyyyyyyyyy/sdxl_Juggernaut' checkpoint!\n"
     ]
    }
   ],
   "source": [
    "from YggDrasill.models.text_encoder_model import TextEncoderModel\n",
    "\n",
    "text_encoder = TextEncoderModel(**ModelKey())"
   ]
  },
  {
   "cell_type": "code",
   "execution_count": 4,
   "metadata": {},
   "outputs": [
    {
     "name": "stdout",
     "output_type": "stream",
     "text": [
      "TextEncoderPipeline --->\n",
      "CLIPTextEncoderPipeline --->\n",
      "torch.Size([6, 77, 768]) torch.Size([6, 77, 1280]) torch.Size([6, 1280])\n"
     ]
    }
   ],
   "source": [
    "from YggDrasill.pipelines.text_encoder_pipeline import TextEncoderPipeline, TextEncoderPipelineInput\n",
    "\n",
    "te_pipeline = TextEncoderPipeline()\n",
    "te_input = TextEncoderPipelineInput(\n",
    "    prompt=[\"hello\", \"world\", \"\"],\n",
    "    clip_skip=2,\n",
    "    prompt_2=[\"Buggy, wook\", \"\"],\n",
    "    negative_prompt=[\"\", \"\", \"\"],\n",
    "    negative_prompt_2=[\"\", \"\", \"\"],\n",
    ")\n",
    "\n",
    "te_output = te_pipeline(\n",
    "    text_encoder,\n",
    "    **te_input\n",
    ")\n",
    "\n",
    "print(\n",
    "    te_output.clip_embeds_1.shape, \n",
    "    te_output.clip_embeds_2.shape, \n",
    "    te_output.pooled_clip_embeds.shape\n",
    ")"
   ]
  },
  {
   "cell_type": "code",
   "execution_count": null,
   "metadata": {},
   "outputs": [],
   "source": []
  },
  {
   "cell_type": "code",
   "execution_count": null,
   "metadata": {},
   "outputs": [],
   "source": []
  },
  {
   "cell_type": "code",
   "execution_count": null,
   "metadata": {},
   "outputs": [],
   "source": [
    "# !pip3 freeze > requirements.txt"
   ]
  },
  {
   "cell_type": "code",
   "execution_count": null,
   "metadata": {},
   "outputs": [],
   "source": []
  }
 ],
 "metadata": {
  "kernelspec": {
   "display_name": ".venv",
   "language": "python",
   "name": "python3"
  },
  "language_info": {
   "codemirror_mode": {
    "name": "ipython",
    "version": 3
   },
   "file_extension": ".py",
   "mimetype": "text/x-python",
   "name": "python",
   "nbconvert_exporter": "python",
   "pygments_lexer": "ipython3",
   "version": "3.10.12"
  }
 },
 "nbformat": 4,
 "nbformat_minor": 2
}
