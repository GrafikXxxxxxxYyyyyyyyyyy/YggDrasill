{
 "cells": [
  {
   "cell_type": "markdown",
   "metadata": {},
   "source": [
    "### Test TextEncoder classes"
   ]
  },
  {
   "cell_type": "code",
   "execution_count": 1,
   "metadata": {},
   "outputs": [],
   "source": [
    "import torch\n",
    "\n",
    "from dataclasses import dataclass\n",
    "from typing import Optional, Union\n",
    "from diffusers.utils import BaseOutput\n",
    "\n",
    "@dataclass\n",
    "class ModelKey(BaseOutput):\n",
    "    author: str = \"GrafikXxxxxxxYyyyyyyyyyy\"\n",
    "    model_path: str = \"GrafikXxxxxxxYyyyyyyyyyy/sdxl_Juggernaut\"\n",
    "    model_type: str = \"sdxl\"\n",
    "    device: str = \"cuda\"\n",
    "    dtype: torch.dtype = torch.float16\n",
    "    scheduler_name: Optional[str] = \"euler_a\""
   ]
  },
  {
   "cell_type": "code",
   "execution_count": 2,
   "metadata": {},
   "outputs": [
    {
     "name": "stdout",
     "output_type": "stream",
     "text": [
      "TextEncoder model has successfully loaded from 'GrafikXxxxxxxYyyyyyyyyyy/sdxl_Juggernaut' checkpoint!\n"
     ]
    }
   ],
   "source": [
    "from YggDrasill.models.text_encoder_model import TextEncoderModel\n",
    "\n",
    "text_encoder = TextEncoderModel(**ModelKey())"
   ]
  },
  {
   "cell_type": "code",
   "execution_count": 11,
   "metadata": {},
   "outputs": [],
   "source": [
    "from YggDrasill.pipelines.text_encoder_pipeline import TextEncoderPipeline, TextEncoderPipelineInput\n",
    "\n",
    "te_pipeline = TextEncoderPipeline()\n",
    "te_input = TextEncoderPipelineInput(\n",
    "    prompt = [\n",
    "        \"a, b, c, d, e\",\n",
    "    ],\n",
    "    prompt_2 = None,\n",
    "    negative_prompt = [\n",
    "        \"a, b, c, d, e\",\n",
    "    ],\n",
    "    # negative_prompt_2 = [\n",
    "\n",
    "    # ],\n",
    "    lora_scale = None,\n",
    "    clip_skip = None,\n",
    ")"
   ]
  },
  {
   "cell_type": "code",
   "execution_count": 14,
   "metadata": {},
   "outputs": [
    {
     "name": "stdout",
     "output_type": "stream",
     "text": [
      "TextEncoderPipeline --->\n",
      "CLIPTextEncoderPipeline --->\n",
      "CLIPTextEncoderModel --->\n",
      "CLIPTextEncoderModel --->\n",
      "TextEncoderPipelineOutput(do_cfg=True, clip_embeds_1=tensor([[[-2.9121, -1.9619,  3.6328,  ...,  0.7681, -2.0156, -1.1943],\n",
      "         [ 0.3555, -0.5918, -0.5381,  ..., -0.1394,  0.2505,  0.2413],\n",
      "         [ 0.4080,  0.1792, -0.0145,  ..., -0.4849,  0.1078,  0.2007],\n",
      "         ...,\n",
      "         [-0.2123, -0.4360, -0.1299,  ..., -0.4243,  0.3232, -0.2036],\n",
      "         [-0.2122, -0.4370, -0.1152,  ..., -0.4302,  0.3193, -0.1948],\n",
      "         [-0.1681, -0.4180, -0.1111,  ..., -0.3953,  0.2969, -0.2424]],\n",
      "\n",
      "        [[-2.9121, -1.9619,  3.6328,  ...,  0.7681, -2.0156, -1.1943],\n",
      "         [ 0.3555, -0.5918, -0.5381,  ..., -0.1394,  0.2505,  0.2413],\n",
      "         [ 0.4080,  0.1792, -0.0145,  ..., -0.4849,  0.1078,  0.2007],\n",
      "         ...,\n",
      "         [-0.2123, -0.4360, -0.1299,  ..., -0.4243,  0.3232, -0.2036],\n",
      "         [-0.2122, -0.4370, -0.1152,  ..., -0.4302,  0.3193, -0.1948],\n",
      "         [-0.1681, -0.4180, -0.1111,  ..., -0.3953,  0.2969, -0.2424]]],\n",
      "       device='cuda:0', dtype=torch.float16, grad_fn=<CatBackward0>), clip_embeds_2=tensor([[[ 2.8198e-02, -4.3530e-01, -8.9844e-02,  ...,  1.3806e-01,\n",
      "           3.4058e-01, -2.6904e-01],\n",
      "         [ 1.7559e+00, -3.9722e-01, -4.2529e-01,  ...,  5.2930e-01,\n",
      "          -1.5063e-01, -6.3843e-02],\n",
      "         [ 8.2227e-01, -2.7979e-01,  3.2056e-01,  ...,  1.6016e-01,\n",
      "           3.9795e-01, -5.4102e-01],\n",
      "         ...,\n",
      "         [ 1.7285e-01, -1.0361e+00,  5.6250e-01,  ...,  3.0542e-01,\n",
      "          -9.0332e-02,  1.0156e+00],\n",
      "         [ 5.7861e-02, -9.8730e-01,  5.6885e-01,  ...,  2.8247e-01,\n",
      "          -1.7468e-01,  1.0459e+00],\n",
      "         [ 1.5820e-01, -1.0400e+00,  5.9570e-01,  ...,  2.8564e-01,\n",
      "          -1.4648e-03,  1.0469e+00]],\n",
      "\n",
      "        [[ 2.8198e-02, -4.3530e-01, -8.9844e-02,  ...,  1.3806e-01,\n",
      "           3.4058e-01, -2.6904e-01],\n",
      "         [ 1.7559e+00, -3.9722e-01, -4.2529e-01,  ...,  5.2930e-01,\n",
      "          -1.5063e-01, -6.3843e-02],\n",
      "         [ 8.2227e-01, -2.7979e-01,  3.2056e-01,  ...,  1.6016e-01,\n",
      "           3.9795e-01, -5.4102e-01],\n",
      "         ...,\n",
      "         [ 1.7285e-01, -1.0361e+00,  5.6250e-01,  ...,  3.0542e-01,\n",
      "          -9.0332e-02,  1.0156e+00],\n",
      "         [ 5.7861e-02, -9.8730e-01,  5.6885e-01,  ...,  2.8247e-01,\n",
      "          -1.7468e-01,  1.0459e+00],\n",
      "         [ 1.5820e-01, -1.0400e+00,  5.9570e-01,  ...,  2.8564e-01,\n",
      "          -1.4648e-03,  1.0469e+00]]], device='cuda:0', dtype=torch.float16,\n",
      "       grad_fn=<CatBackward0>), pooled_clip_embeds=tensor([[-0.3516, -0.2225, -0.2354,  ..., -0.7251, -0.4880,  0.5698],\n",
      "        [-0.3516, -0.2225, -0.2354,  ..., -0.7251, -0.4880,  0.5698]],\n",
      "       device='cuda:0', dtype=torch.float16, grad_fn=<CatBackward0>), cross_attention_kwargs=None)\n"
     ]
    }
   ],
   "source": [
    "te_output = te_pipeline(\n",
    "    text_encoder,\n",
    "    **te_input\n",
    ")\n",
    "\n",
    "print(\n",
    "    te_output\n",
    "    # te_output.clip_embeds_1,\n",
    "    # te_output.clip_embeds_2, \n",
    "    # te_output.pooled_clip_embeds.shape\n",
    ")"
   ]
  },
  {
   "cell_type": "code",
   "execution_count": null,
   "metadata": {},
   "outputs": [],
   "source": []
  },
  {
   "cell_type": "code",
   "execution_count": null,
   "metadata": {},
   "outputs": [],
   "source": [
    "# !pip3 freeze > requirements.txt"
   ]
  },
  {
   "cell_type": "code",
   "execution_count": null,
   "metadata": {},
   "outputs": [],
   "source": []
  }
 ],
 "metadata": {
  "kernelspec": {
   "display_name": ".venv",
   "language": "python",
   "name": "python3"
  },
  "language_info": {
   "codemirror_mode": {
    "name": "ipython",
    "version": 3
   },
   "file_extension": ".py",
   "mimetype": "text/x-python",
   "name": "python",
   "nbconvert_exporter": "python",
   "pygments_lexer": "ipython3",
   "version": "3.10.12"
  }
 },
 "nbformat": 4,
 "nbformat_minor": 2
}
